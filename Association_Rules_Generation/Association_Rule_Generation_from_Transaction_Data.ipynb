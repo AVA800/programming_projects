{
 "cells": [
  {
   "cell_type": "code",
   "execution_count": 1,
   "id": "df698312",
   "metadata": {},
   "outputs": [
    {
     "data": {
      "text/html": [
       "<div>\n",
       "<style scoped>\n",
       "    .dataframe tbody tr th:only-of-type {\n",
       "        vertical-align: middle;\n",
       "    }\n",
       "\n",
       "    .dataframe tbody tr th {\n",
       "        vertical-align: top;\n",
       "    }\n",
       "\n",
       "    .dataframe thead th {\n",
       "        text-align: right;\n",
       "    }\n",
       "</style>\n",
       "<table border=\"1\" class=\"dataframe\">\n",
       "  <thead>\n",
       "    <tr style=\"text-align: right;\">\n",
       "      <th></th>\n",
       "      <th>antecedents</th>\n",
       "      <th>consequents</th>\n",
       "      <th>antecedent support</th>\n",
       "      <th>consequent support</th>\n",
       "      <th>support</th>\n",
       "      <th>confidence</th>\n",
       "      <th>lift</th>\n",
       "      <th>leverage</th>\n",
       "      <th>conviction</th>\n",
       "      <th>zhangs_metric</th>\n",
       "    </tr>\n",
       "  </thead>\n",
       "  <tbody>\n",
       "    <tr>\n",
       "      <th>0</th>\n",
       "      <td>(yogurt)</td>\n",
       "      <td>(whole milk)</td>\n",
       "      <td>0.084000</td>\n",
       "      <td>0.163375</td>\n",
       "      <td>0.012000</td>\n",
       "      <td>0.142857</td>\n",
       "      <td>0.874413</td>\n",
       "      <td>-0.001723</td>\n",
       "      <td>0.976062</td>\n",
       "      <td>-0.135543</td>\n",
       "    </tr>\n",
       "    <tr>\n",
       "      <th>1</th>\n",
       "      <td>(other vegetables)</td>\n",
       "      <td>(whole milk)</td>\n",
       "      <td>0.121500</td>\n",
       "      <td>0.163375</td>\n",
       "      <td>0.016000</td>\n",
       "      <td>0.131687</td>\n",
       "      <td>0.806043</td>\n",
       "      <td>-0.003850</td>\n",
       "      <td>0.963507</td>\n",
       "      <td>-0.215014</td>\n",
       "    </tr>\n",
       "    <tr>\n",
       "      <th>2</th>\n",
       "      <td>(rolls/buns)</td>\n",
       "      <td>(whole milk)</td>\n",
       "      <td>0.113250</td>\n",
       "      <td>0.163375</td>\n",
       "      <td>0.014625</td>\n",
       "      <td>0.129139</td>\n",
       "      <td>0.790446</td>\n",
       "      <td>-0.003877</td>\n",
       "      <td>0.960687</td>\n",
       "      <td>-0.230157</td>\n",
       "    </tr>\n",
       "    <tr>\n",
       "      <th>3</th>\n",
       "      <td>(soda)</td>\n",
       "      <td>(whole milk)</td>\n",
       "      <td>0.097625</td>\n",
       "      <td>0.163375</td>\n",
       "      <td>0.014125</td>\n",
       "      <td>0.144686</td>\n",
       "      <td>0.885609</td>\n",
       "      <td>-0.001824</td>\n",
       "      <td>0.978150</td>\n",
       "      <td>-0.125217</td>\n",
       "    </tr>\n",
       "  </tbody>\n",
       "</table>\n",
       "</div>"
      ],
      "text/plain": [
       "          antecedents   consequents  antecedent support  consequent support  \\\n",
       "0            (yogurt)  (whole milk)            0.084000            0.163375   \n",
       "1  (other vegetables)  (whole milk)            0.121500            0.163375   \n",
       "2        (rolls/buns)  (whole milk)            0.113250            0.163375   \n",
       "3              (soda)  (whole milk)            0.097625            0.163375   \n",
       "\n",
       "    support  confidence      lift  leverage  conviction  zhangs_metric  \n",
       "0  0.012000    0.142857  0.874413 -0.001723    0.976062      -0.135543  \n",
       "1  0.016000    0.131687  0.806043 -0.003850    0.963507      -0.215014  \n",
       "2  0.014625    0.129139  0.790446 -0.003877    0.960687      -0.230157  \n",
       "3  0.014125    0.144686  0.885609 -0.001824    0.978150      -0.125217  "
      ]
     },
     "execution_count": 1,
     "metadata": {},
     "output_type": "execute_result"
    }
   ],
   "source": [
    "import pandas as pd\n",
    "from mlxtend.preprocessing import TransactionEncoder\n",
    "from mlxtend.frequent_patterns import apriori, fpmax, fpgrowth,association_rules\n",
    "import seaborn as sn\n",
    "import matplotlib.pyplot as plt\n",
    "from csv import reader\n",
    "groceries = []\n",
    "with open('./Grocery_Items_60.csv') as file:\n",
    "    csv= reader(file,delimiter='\\t')\n",
    "    headers = next(csv)\n",
    "    for row in csv:\n",
    "        items = [item for item in row[0].split(',') if item]\n",
    "        groceries.append(items)\n",
    "encoder = TransactionEncoder()\n",
    "transactions = encoder.fit(groceries).transform(groceries)\n",
    "transactions = transactions.astype(bool)\n",
    "df = pd.DataFrame(transactions, columns=encoder.columns_)\n",
    "frequent_itemsets = fpgrowth(df, min_support=0.01, use_colnames=True)\n",
    "association_rules(frequent_itemsets, metric=\"confidence\", min_threshold=0.1)\n",
    "rules=association_rules(frequent_itemsets, metric=\"confidence\", min_threshold=0.1)\n",
    "rules"
   ]
  },
  {
   "cell_type": "code",
   "execution_count": 2,
   "id": "f3425a41",
   "metadata": {},
   "outputs": [
    {
     "name": "stdout",
     "output_type": "stream",
     "text": [
      "    count    msv    mct\n",
      "0     529  0.001  0.050\n",
      "1     309  0.001  0.075\n",
      "2     190  0.001  0.100\n",
      "3      63  0.005  0.050\n",
      "4      43  0.005  0.075\n",
      "5      26  0.005  0.100\n",
      "6       8  0.010  0.050\n",
      "7       7  0.010  0.075\n",
      "8       4  0.010  0.100\n",
      "9       0  0.050  0.050\n",
      "10      0  0.050  0.075\n",
      "11      0  0.050  0.100\n"
     ]
    },
    {
     "data": {
      "image/png": "[encoded data removed]",
      "text/plain": [
       "<Figure size 640x480 with 2 Axes>"
      ]
     },
     "metadata": {},
     "output_type": "display_data"
    }
   ],
   "source": [
    "a = {}\n",
    "for msv in (0.001, 0.005, 0.01, 0.05):\n",
    "    frequent_itemsets = fpgrowth(df, min_support=msv, use_colnames=True)\n",
    "    for mct in (0.05, 0.075, 0.1):\n",
    "        rules = association_rules(frequent_itemsets, metric=\"confidence\", min_threshold=mct)\n",
    "        a[(msv, mct)] = len(rules)\n",
    "a_df = pd.DataFrame(list(a.items()), columns=['msv_mct', 'count'])\n",
    "a_df[['msv', 'mct']] = pd.DataFrame(a_df['msv_mct'].tolist(), index=a_df.index)\n",
    "a_df = a_df.drop(columns='msv_mct')\n",
    "print(a_df)\n",
    "a_df = a_df.pivot(index='mct', columns='msv', values='count')\n",
    "sn.heatmap(a_df,annot=True)\n",
    "plt.show()"
   ]
  },
  {
   "cell_type": "code",
   "execution_count": 3,
   "id": "35af68a4",
   "metadata": {},
   "outputs": [
    {
     "name": "stdout",
     "output_type": "stream",
     "text": [
      "The highest confidence value is:  0.16756756756756758\n"
     ]
    },
    {
     "data": {
      "text/html": [
       "<div>\n",
       "<style scoped>\n",
       "    .dataframe tbody tr th:only-of-type {\n",
       "        vertical-align: middle;\n",
       "    }\n",
       "\n",
       "    .dataframe tbody tr th {\n",
       "        vertical-align: top;\n",
       "    }\n",
       "\n",
       "    .dataframe thead th {\n",
       "        text-align: right;\n",
       "    }\n",
       "</style>\n",
       "<table border=\"1\" class=\"dataframe\">\n",
       "  <thead>\n",
       "    <tr style=\"text-align: right;\">\n",
       "      <th></th>\n",
       "      <th>antecedents</th>\n",
       "      <th>consequents</th>\n",
       "      <th>antecedent support</th>\n",
       "      <th>consequent support</th>\n",
       "      <th>support</th>\n",
       "      <th>confidence</th>\n",
       "      <th>lift</th>\n",
       "      <th>leverage</th>\n",
       "      <th>conviction</th>\n",
       "      <th>zhangs_metric</th>\n",
       "    </tr>\n",
       "  </thead>\n",
       "  <tbody>\n",
       "    <tr>\n",
       "      <th>15</th>\n",
       "      <td>(bottled beer)</td>\n",
       "      <td>(whole milk)</td>\n",
       "      <td>0.04625</td>\n",
       "      <td>0.163375</td>\n",
       "      <td>0.00775</td>\n",
       "      <td>0.167568</td>\n",
       "      <td>1.025662</td>\n",
       "      <td>0.000194</td>\n",
       "      <td>1.005037</td>\n",
       "      <td>0.026233</td>\n",
       "    </tr>\n",
       "  </tbody>\n",
       "</table>\n",
       "</div>"
      ],
      "text/plain": [
       "       antecedents   consequents  antecedent support  consequent support  \\\n",
       "15  (bottled beer)  (whole milk)             0.04625            0.163375   \n",
       "\n",
       "    support  confidence      lift  leverage  conviction  zhangs_metric  \n",
       "15  0.00775    0.167568  1.025662  0.000194    1.005037       0.026233  "
      ]
     },
     "execution_count": 3,
     "metadata": {},
     "output_type": "execute_result"
    }
   ],
   "source": [
    "frequent_itemsets = fpgrowth(df, min_support=0.005, use_colnames=True)\n",
    "rules = association_rules(frequent_itemsets, metric=\"confidence\", min_threshold=0.1)\n",
    "max_confidence = rules['confidence'].max()\n",
    "highest_confidence_rules = rules[rules['confidence'] == max_confidence]\n",
    "print('The highest confidence value is: ',max_confidence)\n",
    "highest_confidence_rules"
   ]
  },
  {
   "cell_type": "code",
   "execution_count": null,
   "id": "cfab1c0f",
   "metadata": {},
   "outputs": [],
   "source": []
  }
 ],
 "metadata": {
  "kernelspec": {
   "display_name": "Python 3 (ipykernel)",
   "language": "python",
   "name": "python3"
  },
  "language_info": {
   "codemirror_mode": {
    "name": "ipython",
    "version": 3
   },
   "file_extension": ".py",
   "mimetype": "text/x-python",
   "name": "python",
   "nbconvert_exporter": "python",
   "pygments_lexer": "ipython3",
   "version": "3.11.5"
  }
 },
 "nbformat": 4,
 "nbformat_minor": 5
}
